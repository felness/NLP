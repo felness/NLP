{
  "cells": [
    {
      "cell_type": "markdown",
      "metadata": {
        "id": "rh9ZXSeCpng9"
      },
      "source": [
        "Импорт необходимых библиотек"
      ]
    },
    {
      "cell_type": "code",
      "execution_count": null,
      "metadata": {
        "id": "XOJi16bLpd_O",
        "outputId": "01f1be4c-a0e9-4203-9a23-66b582259da0"
      },
      "outputs": [
        {
          "name": "stderr",
          "output_type": "stream",
          "text": [
            "d:\\anaconda\\envs\\nlp\\Lib\\site-packages\\tqdm\\auto.py:21: TqdmWarning: IProgress not found. Please update jupyter and ipywidgets. See https://ipywidgets.readthedocs.io/en/stable/user_install.html\n",
            "  from .autonotebook import tqdm as notebook_tqdm\n"
          ]
        }
      ],
      "source": [
        "import torch\n",
        "import torch.nn as nn\n",
        "from torch.utils.data import Dataset, DataLoader\n",
        "\n",
        "import numpy as np\n",
        "import matplotlib.pyplot as plt\n",
        "\n",
        "from tqdm.auto import tqdm\n",
        "from datasets import load_dataset\n",
        "from nltk.tokenize import sent_tokenize, word_tokenize\n",
        "from sklearn.model_selection import train_test_split\n",
        "import nltk\n",
        "\n",
        "from collections import Counter\n",
        "from typing import List\n",
        "\n",
        "import seaborn\n",
        "seaborn.set(palette='summer')"
      ]
    },
    {
      "cell_type": "markdown",
      "source": [
        "# Подготовка данных"
      ],
      "metadata": {
        "id": "DiO5aFSny2uF"
      }
    },
    {
      "cell_type": "code",
      "execution_count": null,
      "metadata": {
        "colab": {
          "base_uri": "https://localhost:8080/"
        },
        "id": "91JuM0SQvXud",
        "outputId": "617a1be0-1e71-47b4-fd4d-329b1ae6666b"
      },
      "outputs": [
        {
          "name": "stderr",
          "output_type": "stream",
          "text": [
            "[nltk_data] Downloading package punkt_tab to\n",
            "[nltk_data]     C:\\Users\\пользователь\\AppData\\Roaming\\nltk_data...\n",
            "[nltk_data]   Package punkt_tab is already up-to-date!\n"
          ]
        },
        {
          "data": {
            "text/plain": [
              "True"
            ]
          },
          "execution_count": 2,
          "metadata": {},
          "output_type": "execute_result"
        }
      ],
      "source": [
        "nltk.download('punkt_tab')\n"
      ]
    },
    {
      "cell_type": "code",
      "execution_count": null,
      "metadata": {
        "colab": {
          "base_uri": "https://localhost:8080/",
          "height": 35
        },
        "id": "adJC8ShFq9HM",
        "outputId": "9ef82910-15a8-43b7-eace-557604774f4d"
      },
      "outputs": [
        {
          "data": {
            "text/plain": [
              "'cuda'"
            ]
          },
          "execution_count": 3,
          "metadata": {},
          "output_type": "execute_result"
        }
      ],
      "source": [
        "device = 'cuda' if torch.cuda.is_available() else 'cpu'\n",
        "device"
      ]
    },
    {
      "cell_type": "code",
      "execution_count": null,
      "metadata": {
        "id": "qHLNWOfJqSfc"
      },
      "outputs": [],
      "source": [
        "\n",
        "dataset = load_dataset('imdb')"
      ]
    },
    {
      "cell_type": "code",
      "execution_count": null,
      "metadata": {
        "colab": {
          "base_uri": "https://localhost:8080/"
        },
        "id": "Ins2tVCdsS47",
        "outputId": "f049e0b7-9927-435a-a3b4-5ca15422009e"
      },
      "outputs": [
        {
          "name": "stdout",
          "output_type": "stream",
          "text": [
            "Start tokenize...\n"
          ]
        },
        {
          "name": "stderr",
          "output_type": "stream",
          "text": [
            "100%|██████████| 25000/25000 [00:08<00:00, 2794.30it/s]\n"
          ]
        },
        {
          "name": "stdout",
          "output_type": "stream",
          "text": [
            "End tokenize\n",
            "Количество предложений : 271057\n",
            "Start filter...\n"
          ]
        },
        {
          "name": "stderr",
          "output_type": "stream",
          "text": [
            "100%|██████████| 271057/271057 [00:31<00:00, 8692.11it/s]"
          ]
        },
        {
          "name": "stdout",
          "output_type": "stream",
          "text": [
            "End filter\n",
            "Итог : 198801\n"
          ]
        },
        {
          "name": "stderr",
          "output_type": "stream",
          "text": [
            "\n"
          ]
        }
      ],
      "source": [
        "from tqdm import tqdm\n",
        "\n",
        "print('Start tokenize...')\n",
        "sentences = [sent for x in tqdm(dataset['train']['text']) for sent in sent_tokenize(x, language='english')]\n",
        "print('End tokenize')\n",
        "print(f\"Количество предложений : {len(sentences)}\")\n",
        "\n",
        "word_threshold = 32\n",
        "print('Start filter...')\n",
        "sentences = [s for s in tqdm(sentences) if len(word_tokenize(s)) < word_threshold]\n",
        "print('End filter')\n",
        "print(f\"Итог : {len(sentences)}\")\n"
      ]
    },
    {
      "cell_type": "markdown",
      "metadata": {
        "id": "iT82XkT6ULA_"
      },
      "source": [
        "Посчитаем для каждого слова его встречаемость."
      ]
    },
    {
      "cell_type": "code",
      "execution_count": null,
      "metadata": {
        "colab": {
          "base_uri": "https://localhost:8080/"
        },
        "id": "nEvCN0Y1w1yH",
        "outputId": "c1fda6de-750a-4ea7-bcc1-e4c5ed07a86a"
      },
      "outputs": [
        {
          "name": "stderr",
          "output_type": "stream",
          "text": [
            "100%|██████████| 198801/198801 [00:16<00:00, 11810.03it/s]\n"
          ]
        }
      ],
      "source": [
        "words = Counter()\n",
        "\n",
        "tokenized_to_word = []\n",
        "\n",
        "for query in tqdm(sentences):\n",
        "    tokenized_to_word.append(word_tokenize(query))\n",
        "\n",
        "tokenized_to_word = [item for row in tokenized_to_word for item in row]\n",
        "\n",
        "for word in tokenized_to_word:\n",
        "    words[word] +=1\n",
        "\n",
        "\n"
      ]
    },
    {
      "cell_type": "code",
      "execution_count": null,
      "metadata": {
        "colab": {
          "base_uri": "https://localhost:8080/"
        },
        "id": "sziZA3XPCA2-",
        "outputId": "b9610277-5ea6-4103-e2e2-cdd784ddeda0"
      },
      "outputs": [
        {
          "data": {
            "text/plain": [
              "81380"
            ]
          },
          "execution_count": 8,
          "metadata": {},
          "output_type": "execute_result"
        }
      ],
      "source": [
        "len(words)"
      ]
    },
    {
      "cell_type": "markdown",
      "metadata": {
        "id": "B4k4uSoHUSI0"
      },
      "source": [
        "Добавим в словарь ```vocab_size``` самых встречающихся слов."
      ]
    },
    {
      "cell_type": "code",
      "execution_count": null,
      "metadata": {
        "colab": {
          "base_uri": "https://localhost:8080/"
        },
        "id": "oUBNwsK9xLIu",
        "outputId": "3984f325-5f77-4406-f135-8b6741823226"
      },
      "outputs": [
        {
          "name": "stderr",
          "output_type": "stream",
          "text": [
            "100%|██████████| 40000/40000 [00:00<00:00, 1333302.82it/s]\n"
          ]
        }
      ],
      "source": [
        "vocab = set(['<unk>', '<pad>', '<bos>', '<eos>'])\n",
        "vocab_size = 40000\n",
        "for item in tqdm(words.most_common(vocab_size)):\n",
        "    vocab.add(item[0])\n",
        "\n",
        "\n",
        "\n"
      ]
    },
    {
      "cell_type": "code",
      "execution_count": null,
      "metadata": {
        "id": "ieT0DFUpXnV2"
      },
      "outputs": [],
      "source": [
        "assert '<unk>' in vocab\n",
        "assert '<bos>' in vocab\n",
        "assert '<eos>' in vocab\n",
        "assert '<pad>' in vocab\n",
        "assert len(vocab) == vocab_size + 4"
      ]
    },
    {
      "cell_type": "code",
      "execution_count": null,
      "metadata": {
        "colab": {
          "base_uri": "https://localhost:8080/"
        },
        "id": "JhACW2CQyck5",
        "outputId": "8dd01649-b0a2-44de-b5c5-97741f85a547"
      },
      "outputs": [
        {
          "name": "stdout",
          "output_type": "stream",
          "text": [
            "Всего слов в словаре: 40004\n"
          ]
        }
      ],
      "source": [
        "print(\"Всего слов в словаре:\", len(vocab))"
      ]
    },
    {
      "cell_type": "code",
      "execution_count": null,
      "metadata": {
        "id": "iD7SmSy3v2dl"
      },
      "outputs": [],
      "source": [
        "word2ind = {char: i for i, char in enumerate(vocab)}\n",
        "ind2word = {i: char for char, i in word2ind.items()}"
      ]
    },
    {
      "cell_type": "code",
      "execution_count": null,
      "metadata": {
        "id": "FVzXL17PzC7K"
      },
      "outputs": [],
      "source": [
        "class WordDataset:\n",
        "    def __init__(self, sentences):\n",
        "        self.data = sentences\n",
        "        self.unk_id = word2ind['<unk>']\n",
        "        self.bos_id = word2ind['<bos>']\n",
        "        self.eos_id = word2ind['<eos>']\n",
        "        self.pad_id = word2ind['<pad>']\n",
        "\n",
        "    def __getitem__(self, idx: int) -> List[int]:\n",
        "        tokenized_sentence = [self.bos_id]\n",
        "        tokenized_sentence += [word2ind.get(word, self.unk_id) for word in self.data[idx].split() ]\n",
        "        tokenized_sentence += [self.eos_id]\n",
        "\n",
        "        return tokenized_sentence\n",
        "\n",
        "    def __len__(self) -> int:\n",
        "        return len(self.data)"
      ]
    },
    {
      "cell_type": "code",
      "execution_count": null,
      "metadata": {
        "id": "I6CtYNMp2_g0"
      },
      "outputs": [],
      "source": [
        "def collate_fn_with_padding(\n",
        "    input_batch: List[List[int]], pad_id=word2ind['<pad>']) -> torch.Tensor:\n",
        "    seq_lens = [len(x) for x in input_batch]\n",
        "    max_seq_len = max(seq_lens)\n",
        "\n",
        "    new_batch = []\n",
        "    for sequence in input_batch:\n",
        "        for _ in range(max_seq_len - len(sequence)):\n",
        "            sequence.append(pad_id)\n",
        "        new_batch.append(sequence)\n",
        "\n",
        "    sequences = torch.LongTensor(new_batch).to(device)\n",
        "\n",
        "    new_batch = {\n",
        "        'input_ids': sequences[:,:-1],\n",
        "        'target_ids': sequences[:,1:]\n",
        "    }\n",
        "\n",
        "    return new_batch"
      ]
    },
    {
      "cell_type": "code",
      "execution_count": null,
      "metadata": {
        "id": "6xmeK9Ys1BIG"
      },
      "outputs": [],
      "source": [
        "train_sentences, eval_sentences = train_test_split(sentences, test_size=0.2)\n",
        "eval_sentences, test_sentences = train_test_split(sentences, test_size=0.5)\n",
        "\n",
        "train_dataset = WordDataset(train_sentences)\n",
        "eval_dataset = WordDataset(eval_sentences)\n",
        "test_dataset = WordDataset(test_sentences)\n",
        "\n",
        "batch_size = 128\n",
        "\n",
        "train_dataloader = DataLoader(\n",
        "    train_dataset, collate_fn=collate_fn_with_padding, batch_size=batch_size)\n",
        "\n",
        "eval_dataloader = DataLoader(\n",
        "    eval_dataset, collate_fn=collate_fn_with_padding, batch_size=batch_size)\n",
        "\n",
        "test_dataloader = DataLoader(\n",
        "    test_dataset, collate_fn=collate_fn_with_padding, batch_size=batch_size)"
      ]
    },
    {
      "cell_type": "markdown",
      "source": [
        "# eval"
      ],
      "metadata": {
        "id": "2TxGySsVzIsL"
      }
    },
    {
      "cell_type": "code",
      "execution_count": null,
      "metadata": {
        "id": "XUlMUVJ3mL4r"
      },
      "outputs": [],
      "source": [
        "def evaluate(model, criterion, dataloader) -> float:\n",
        "    model.eval()\n",
        "    perplexity = []\n",
        "    with torch.no_grad():\n",
        "        for batch in dataloader:\n",
        "            logits = model(batch['input_ids']).flatten(start_dim=0, end_dim=1)\n",
        "            loss = criterion(logits, batch['target_ids'].flatten())\n",
        "            perplexity.append(torch.exp(loss).item())\n",
        "\n",
        "    perplexity = sum(perplexity) / len(perplexity)\n",
        "\n",
        "    return perplexity"
      ]
    },
    {
      "cell_type": "markdown",
      "metadata": {
        "id": "bLV63Vsk7loy"
      },
      "source": [
        "###Train loop\n",
        "\n"
      ]
    },
    {
      "cell_type": "code",
      "execution_count": null,
      "metadata": {
        "id": "bSZmUC3YmocP"
      },
      "outputs": [],
      "source": [
        "def train_model(model, epochs, criterion, optimizer):\n",
        "    losses = []\n",
        "    perplexity = []\n",
        "    print('Start training...\\n\\n')\n",
        "    for epoch in range(epochs):\n",
        "        model.train()\n",
        "        epoch_loss = []\n",
        "        for batch in tqdm(train_dataloader, desc=f'start training with epoch : {epoch}'):\n",
        "            optimizer.zero_grad()\n",
        "            logits = model(batch['input_ids']).flatten(start_dim=0, end_dim=1)\n",
        "            loss = criterion(logits, batch['target_ids'].flatten())\n",
        "            loss.backward()\n",
        "            optimizer.step()\n",
        "            epoch_loss.append(loss.item())\n",
        "        losses.append(sum(epoch_loss) / len(epoch_loss))\n",
        "        perplexity.append(evaluate(model, criterion, eval_dataloader))\n",
        "\n",
        "    return losses, perplexity\n",
        "\n",
        "\n"
      ]
    },
    {
      "cell_type": "markdown",
      "metadata": {
        "id": "hXmeyhBQmuq4"
      },
      "source": [
        "### Бейслайн\n"
      ]
    },
    {
      "cell_type": "code",
      "execution_count": null,
      "metadata": {
        "id": "qaWvqNJom0ij"
      },
      "outputs": [],
      "source": [
        "class LanguageModel(nn.Module):\n",
        "    def __init__(self, hidden_dim, vocab_size=len(vocab), num_layers=1):\n",
        "        super().__init__()\n",
        "\n",
        "        self.embeddings = nn.Embedding(vocab_size, hidden_dim)\n",
        "        self.linear = nn.Linear(hidden_dim, hidden_dim)\n",
        "        self.foa = nn.Tanh()\n",
        "        self.gru = nn.GRU(hidden_dim, hidden_dim, batch_first=True, num_layers=num_layers)\n",
        "        self.dropout = nn.Dropout(p=0.2)\n",
        "        self.projection = nn.Linear(hidden_dim, vocab_size)\n",
        "\n",
        "    def forward(self, input_batch: torch.Tensor) -> torch.Tensor:\n",
        "        embeddings = self.embeddings(input_batch)\n",
        "        output, _ = self.gru(embeddings)\n",
        "        output = self.linear(self.foa(output))\n",
        "        output = self.dropout(self.foa(output))\n",
        "        output = self.projection(output)\n",
        "        return output"
      ]
    },
    {
      "cell_type": "code",
      "execution_count": null,
      "metadata": {
        "id": "TxbEzn5fnBOY"
      },
      "outputs": [],
      "source": [
        "model = LanguageModel(hidden_dim=256, vocab_size=len(vocab), num_layers=1).to(device)\n",
        "optimizer = torch.optim.Adam(model.parameters())\n",
        "criterion = nn.CrossEntropyLoss(ignore_index=word2ind['<pad>'])\n"
      ]
    },
    {
      "cell_type": "code",
      "execution_count": null,
      "metadata": {
        "colab": {
          "base_uri": "https://localhost:8080/"
        },
        "id": "6abgMBvbCA3C",
        "outputId": "0dfde668-e2d5-4061-edb1-ff5824388d10"
      },
      "outputs": [
        {
          "name": "stdout",
          "output_type": "stream",
          "text": [
            "Start training...\n",
            "\n",
            "\n"
          ]
        },
        {
          "name": "stderr",
          "output_type": "stream",
          "text": [
            "start training with epoch : 0: 100%|██████████| 1243/1243 [01:54<00:00, 10.85it/s]\n",
            "start training with epoch : 1: 100%|██████████| 1243/1243 [01:53<00:00, 10.93it/s]\n",
            "start training with epoch : 2: 100%|██████████| 1243/1243 [01:53<00:00, 10.92it/s]\n",
            "start training with epoch : 3: 100%|██████████| 1243/1243 [01:53<00:00, 10.93it/s]\n",
            "start training with epoch : 4: 100%|██████████| 1243/1243 [01:53<00:00, 10.93it/s]\n",
            "start training with epoch : 5: 100%|██████████| 1243/1243 [01:53<00:00, 10.91it/s]\n",
            "start training with epoch : 6: 100%|██████████| 1243/1243 [01:53<00:00, 10.92it/s]\n",
            "start training with epoch : 7: 100%|██████████| 1243/1243 [01:53<00:00, 10.91it/s]\n",
            "start training with epoch : 8: 100%|██████████| 1243/1243 [01:53<00:00, 10.91it/s]\n",
            "start training with epoch : 9: 100%|██████████| 1243/1243 [01:54<00:00, 10.90it/s]\n"
          ]
        }
      ],
      "source": [
        "loss, perplexity = train_model(model, epochs=10, criterion=criterion, optimizer=optimizer)"
      ]
    },
    {
      "cell_type": "markdown",
      "metadata": {
        "id": "IqZouGkDqX6f"
      },
      "source": [
        "Построим графики лоса и перплексии на валидационном датасете для каждой эпохи"
      ]
    },
    {
      "cell_type": "code",
      "execution_count": null,
      "metadata": {
        "colab": {
          "base_uri": "https://localhost:8080/",
          "height": 720
        },
        "id": "l2Hn30ipK8_N",
        "outputId": "d8a7f9d0-02a4-41a7-dd71-4a888ac36ce7"
      },
      "outputs": [
        {
          "data": {
            "text/plain": [
              "[<matplotlib.lines.Line2D at 0x79b7a4551110>]"
            ]
          },
          "execution_count": 40,
          "metadata": {},
          "output_type": "execute_result"
        },
        {
          "data": {
            "image/png": "[encoded data removed]",
            "text/plain": [
              "<Figure size 1000x800 with 1 Axes>"
            ]
          },
          "metadata": {},
          "output_type": "display_data"
        }
      ],
      "source": [
        "import matplotlib.pyplot as plt\n",
        "plt.figure(figsize=(10, 8))\n",
        "plt.title('Loss')\n",
        "plt.plot(np.arange(10), loss)"
      ]
    },
    {
      "cell_type": "code",
      "execution_count": null,
      "metadata": {
        "colab": {
          "base_uri": "https://localhost:8080/",
          "height": 720
        },
        "id": "aUnQ_x-jLmI_",
        "outputId": "f6318c02-5154-4e46-9721-e1eae33a5053"
      },
      "outputs": [
        {
          "data": {
            "text/plain": [
              "[<matplotlib.lines.Line2D at 0x79b7a451a550>]"
            ]
          },
          "execution_count": 41,
          "metadata": {},
          "output_type": "execute_result"
        },
        {
          "data": {
            "image/png": "[encoded data removed]",
            "text/plain": [
              "<Figure size 1000x800 with 1 Axes>"
            ]
          },
          "metadata": {},
          "output_type": "display_data"
        }
      ],
      "source": [
        "\n",
        "plt.figure(figsize=(10, 8))\n",
        "plt.title('Perplexity')\n",
        "plt.plot(np.arange(10), perplexity)"
      ]
    },
    {
      "cell_type": "markdown",
      "metadata": {
        "id": "senLMg70wGYh"
      },
      "source": [
        "Посмотрим перплексию на тестовой выборке, отметим как бейслайн"
      ]
    },
    {
      "cell_type": "code",
      "execution_count": null,
      "metadata": {
        "colab": {
          "base_uri": "https://localhost:8080/"
        },
        "id": "kRhS8Hx1qgyK",
        "outputId": "00718df0-9b17-4dff-8669-02965bc76122"
      },
      "outputs": [
        {
          "name": "stdout",
          "output_type": "stream",
          "text": [
            "60.134383448302515\n"
          ]
        }
      ],
      "source": [
        "output = evaluate(model, criterion, test_dataloader)\n",
        "print(output)"
      ]
    },
    {
      "cell_type": "markdown",
      "source": [
        "# Эксперименты"
      ],
      "metadata": {
        "id": "kcG1RUqjzhpq"
      }
    },
    {
      "cell_type": "markdown",
      "metadata": {
        "id": "ZxMpjIJmwetj"
      },
      "source": [
        "Теперь попробуем увеличить количество слоев gru до 2"
      ]
    },
    {
      "cell_type": "code",
      "execution_count": null,
      "metadata": {
        "id": "wkSE4jR1XzTg"
      },
      "outputs": [],
      "source": [
        "model = LanguageModel(hidden_dim=256, vocab_size=len(vocab), num_layers=2).to(device)\n",
        "optimizer = torch.optim.Adam(model.parameters())\n",
        "criterion = nn.CrossEntropyLoss(ignore_index=word2ind['<pad>'])\n"
      ]
    },
    {
      "cell_type": "code",
      "execution_count": null,
      "metadata": {
        "colab": {
          "base_uri": "https://localhost:8080/"
        },
        "id": "WAag2hR-0OZV",
        "outputId": "8bd8b3ba-c371-42e7-e704-d738aa6a4a59"
      },
      "outputs": [
        {
          "name": "stdout",
          "output_type": "stream",
          "text": [
            "Start training...\n",
            "\n",
            "\n"
          ]
        },
        {
          "name": "stderr",
          "output_type": "stream",
          "text": [
            "start training with epoch : 0: 100%|██████████| 1243/1243 [01:58<00:00, 10.45it/s]\n",
            "start training with epoch : 1: 100%|██████████| 1243/1243 [01:58<00:00, 10.51it/s]\n",
            "start training with epoch : 2: 100%|██████████| 1243/1243 [01:58<00:00, 10.50it/s]\n",
            "start training with epoch : 3: 100%|██████████| 1243/1243 [01:58<00:00, 10.50it/s]\n",
            "start training with epoch : 4: 100%|██████████| 1243/1243 [01:58<00:00, 10.47it/s]\n",
            "start training with epoch : 5: 100%|██████████| 1243/1243 [01:58<00:00, 10.47it/s]\n",
            "start training with epoch : 6: 100%|██████████| 1243/1243 [01:58<00:00, 10.48it/s]\n",
            "start training with epoch : 7: 100%|██████████| 1243/1243 [01:58<00:00, 10.49it/s]\n",
            "start training with epoch : 8: 100%|██████████| 1243/1243 [01:58<00:00, 10.50it/s]\n",
            "start training with epoch : 9: 100%|██████████| 1243/1243 [01:58<00:00, 10.48it/s]\n"
          ]
        }
      ],
      "source": [
        "loss, perplexity = train_model(model, epochs=10, criterion=criterion, optimizer=optimizer)"
      ]
    },
    {
      "cell_type": "code",
      "execution_count": null,
      "metadata": {
        "colab": {
          "base_uri": "https://localhost:8080/"
        },
        "id": "jFB6Z8TV8bY3",
        "outputId": "b950c6f6-3299-424a-842d-7d7803c78df5"
      },
      "outputs": [
        {
          "data": {
            "text/plain": [
              "77.5760474333892"
            ]
          },
          "execution_count": 36,
          "metadata": {},
          "output_type": "execute_result"
        }
      ],
      "source": [
        "test_perplexity = evaluate(model=model, criterion=criterion, dataloader=test_dataloader)\n",
        "test_perplexity"
      ]
    },
    {
      "cell_type": "markdown",
      "metadata": {
        "id": "05jufELQC8XH"
      },
      "source": [
        "Видим, что это только ухудшило результат. Попробуем увеличить hidden_size и p в dropout, а также увеличим lr для улучшения сходимости, посмотрим даст ли результат."
      ]
    },
    {
      "cell_type": "code",
      "execution_count": null,
      "metadata": {
        "id": "DnzloQTsDJVH"
      },
      "outputs": [],
      "source": [
        "model = LanguageModel(hidden_dim=512, vocab_size=len(vocab)).to(device)\n",
        "optimizer = torch.optim.Adam(lr=0.009, params=model.parameters())\n",
        "criterion = nn.CrossEntropyLoss(ignore_index=word2ind['<pad>'])"
      ]
    },
    {
      "cell_type": "code",
      "execution_count": null,
      "metadata": {
        "colab": {
          "base_uri": "https://localhost:8080/"
        },
        "id": "dqN2-A_8D6D2",
        "outputId": "cc40a75e-d8be-46b3-a040-327a8a918050"
      },
      "outputs": [
        {
          "name": "stdout",
          "output_type": "stream",
          "text": [
            "Start training...\n",
            "\n",
            "\n"
          ]
        },
        {
          "name": "stderr",
          "output_type": "stream",
          "text": [
            "start training with epoch : 0: 100%|██████████| 1243/1243 [03:17<00:00,  6.28it/s]\n",
            "start training with epoch : 1: 100%|██████████| 1243/1243 [03:18<00:00,  6.26it/s]\n",
            "start training with epoch : 2: 100%|██████████| 1243/1243 [03:18<00:00,  6.26it/s]\n",
            "start training with epoch : 3: 100%|██████████| 1243/1243 [03:18<00:00,  6.27it/s]\n",
            "start training with epoch : 4: 100%|██████████| 1243/1243 [03:18<00:00,  6.28it/s]\n",
            "start training with epoch : 5: 100%|██████████| 1243/1243 [03:18<00:00,  6.28it/s]\n",
            "start training with epoch : 6: 100%|██████████| 1243/1243 [03:18<00:00,  6.28it/s]\n",
            "start training with epoch : 7: 100%|██████████| 1243/1243 [03:17<00:00,  6.28it/s]\n",
            "start training with epoch : 8: 100%|██████████| 1243/1243 [03:18<00:00,  6.28it/s]\n",
            "start training with epoch : 9: 100%|██████████| 1243/1243 [03:17<00:00,  6.30it/s]\n"
          ]
        }
      ],
      "source": [
        "loss, perplexity = train_model(model, epochs=10, criterion=criterion, optimizer=optimizer)"
      ]
    },
    {
      "cell_type": "code",
      "execution_count": null,
      "metadata": {
        "colab": {
          "base_uri": "https://localhost:8080/",
          "height": 720
        },
        "id": "b4zGYAqgECoG",
        "outputId": "fd016063-3d6c-4184-da4e-c00d25e04322"
      },
      "outputs": [
        {
          "data": {
            "text/plain": [
              "[<matplotlib.lines.Line2D at 0x79b7a43e6ad0>]"
            ]
          },
          "execution_count": 49,
          "metadata": {},
          "output_type": "execute_result"
        },
        {
          "data": {
            "image/png": "[encoded data removed]",
            "text/plain": [
              "<Figure size 1000x800 with 1 Axes>"
            ]
          },
          "metadata": {},
          "output_type": "display_data"
        }
      ],
      "source": [
        "\n",
        "plt.figure(figsize=(10, 8))\n",
        "plt.title('Loss')\n",
        "plt.plot(np.arange(10), loss)"
      ]
    },
    {
      "cell_type": "code",
      "execution_count": null,
      "metadata": {
        "colab": {
          "base_uri": "https://localhost:8080/",
          "height": 720
        },
        "id": "lA-6-MxINWMx",
        "outputId": "300f603c-1c22-4397-f87b-d6b4432d316a"
      },
      "outputs": [
        {
          "data": {
            "text/plain": [
              "[<matplotlib.lines.Line2D at 0x79b7a42c3050>]"
            ]
          },
          "execution_count": 53,
          "metadata": {},
          "output_type": "execute_result"
        },
        {
          "data": {
            "image/png": "[encoded data removed]",
            "text/plain": [
              "<Figure size 1000x800 with 1 Axes>"
            ]
          },
          "metadata": {},
          "output_type": "display_data"
        }
      ],
      "source": [
        "\n",
        "plt.figure(figsize=(10, 8))\n",
        "plt.title('perplexity')\n",
        "plt.plot(np.arange(10), perplexity)"
      ]
    },
    {
      "cell_type": "code",
      "execution_count": null,
      "metadata": {
        "colab": {
          "base_uri": "https://localhost:8080/"
        },
        "id": "rHEzpsB5Oug1",
        "outputId": "c324c7c5-33ad-471d-8e7a-81e85c176a04"
      },
      "outputs": [
        {
          "data": {
            "text/plain": [
              "1211.6281263039687"
            ]
          },
          "execution_count": 54,
          "metadata": {},
          "output_type": "execute_result"
        }
      ],
      "source": [
        "test_p = evaluate(model, criterion, test_dataloader)\n",
        "test_p"
      ]
    },
    {
      "cell_type": "markdown",
      "metadata": {
        "id": "c9-eluYiPHu_"
      },
      "source": [
        "Видим, что модель не обучается, попробуем архитектуру lstm и adamw"
      ]
    },
    {
      "cell_type": "code",
      "execution_count": null,
      "metadata": {
        "id": "M2GCDVeeF8LP"
      },
      "outputs": [],
      "source": [
        "class LSTM(nn.Module):\n",
        "    def __init__(self, hidden_dim, vocab_size=len(vocab), num_layers=1):\n",
        "        super().__init__()\n",
        "\n",
        "        self.embeddings = nn.Embedding(vocab_size, hidden_dim)\n",
        "        self.linear = nn.Linear(hidden_dim, hidden_dim)\n",
        "        self.foa = nn.Tanh()\n",
        "        self.lstm = nn.LSTM(hidden_dim, hidden_dim, batch_first=True, num_layers=num_layers)\n",
        "        self.dropout = nn.Dropout(p=0.1)\n",
        "        self.projection = nn.Linear(hidden_dim, vocab_size)\n",
        "\n",
        "    def forward(self, input_batch: torch.Tensor) -> torch.Tensor:\n",
        "        embeddings = self.embeddings(input_batch)\n",
        "        output, _ = self.lstm(embeddings)\n",
        "        output = self.linear(self.foa(output))\n",
        "        output = self.dropout(self.foa(output))\n",
        "        output = self.projection(output)\n",
        "        return output"
      ]
    },
    {
      "cell_type": "code",
      "execution_count": null,
      "metadata": {
        "id": "W2Td7b_SNhp6"
      },
      "outputs": [],
      "source": [
        "model = LSTM(hidden_dim=256, vocab_size=len(vocab)).to(device)\n",
        "optimizer = torch.optim.AdamW(model.parameters(), lr=0.001, weight_decay=0.01)\n",
        "criterion = nn.CrossEntropyLoss(ignore_index=word2ind['<pad>'])\n"
      ]
    },
    {
      "cell_type": "code",
      "execution_count": null,
      "metadata": {
        "colab": {
          "base_uri": "https://localhost:8080/"
        },
        "id": "i0m6N7EtPVDt",
        "outputId": "dd0d52b0-ad92-47b8-c7a1-997113d38481"
      },
      "outputs": [
        {
          "name": "stdout",
          "output_type": "stream",
          "text": [
            "Start training...\n",
            "\n",
            "\n"
          ]
        },
        {
          "name": "stderr",
          "output_type": "stream",
          "text": [
            "start training with epoch : 0: 100%|██████████| 1243/1243 [01:55<00:00, 10.76it/s]\n",
            "start training with epoch : 1: 100%|██████████| 1243/1243 [01:55<00:00, 10.78it/s]\n",
            "start training with epoch : 2: 100%|██████████| 1243/1243 [01:55<00:00, 10.77it/s]\n",
            "start training with epoch : 3: 100%|██████████| 1243/1243 [01:55<00:00, 10.76it/s]\n",
            "start training with epoch : 4: 100%|██████████| 1243/1243 [01:55<00:00, 10.75it/s]\n",
            "start training with epoch : 5: 100%|██████████| 1243/1243 [01:55<00:00, 10.76it/s]\n",
            "start training with epoch : 6: 100%|██████████| 1243/1243 [01:55<00:00, 10.74it/s]\n",
            "start training with epoch : 7: 100%|██████████| 1243/1243 [01:55<00:00, 10.74it/s]\n",
            "start training with epoch : 8: 100%|██████████| 1243/1243 [01:55<00:00, 10.75it/s]\n",
            "start training with epoch : 9: 100%|██████████| 1243/1243 [01:55<00:00, 10.75it/s]\n"
          ]
        }
      ],
      "source": [
        "loss, perplexity = train_model(model, epochs=10, criterion=criterion, optimizer=optimizer)"
      ]
    },
    {
      "cell_type": "code",
      "execution_count": null,
      "metadata": {
        "colab": {
          "base_uri": "https://localhost:8080/",
          "height": 720
        },
        "id": "x6DOW7n8PfwN",
        "outputId": "3453e7f4-6c2c-4c43-ecac-24bdbecc483b"
      },
      "outputs": [
        {
          "data": {
            "text/plain": [
              "[<matplotlib.lines.Line2D at 0x79b7a47d2550>]"
            ]
          },
          "execution_count": 66,
          "metadata": {},
          "output_type": "execute_result"
        },
        {
          "data": {
            "image/png": "[encoded data removed]",
            "text/plain": [
              "<Figure size 1000x800 with 1 Axes>"
            ]
          },
          "metadata": {},
          "output_type": "display_data"
        }
      ],
      "source": [
        "\n",
        "plt.figure(figsize=(10, 8))\n",
        "plt.title('Loss')\n",
        "plt.plot(np.arange(10), loss)"
      ]
    },
    {
      "cell_type": "code",
      "execution_count": null,
      "metadata": {
        "colab": {
          "base_uri": "https://localhost:8080/",
          "height": 720
        },
        "id": "oahgOJo0X8QP",
        "outputId": "098c41ee-8008-4596-e9d2-3c72daa0753a"
      },
      "outputs": [
        {
          "data": {
            "text/plain": [
              "[<matplotlib.lines.Line2D at 0x79b7a423f490>]"
            ]
          },
          "execution_count": 67,
          "metadata": {},
          "output_type": "execute_result"
        },
        {
          "data": {
            "image/png": "[encoded data removed]",
            "text/plain": [
              "<Figure size 1000x800 with 1 Axes>"
            ]
          },
          "metadata": {},
          "output_type": "display_data"
        }
      ],
      "source": [
        "\n",
        "plt.figure(figsize=(10, 8))\n",
        "plt.title('perplexity')\n",
        "plt.plot(np.arange(10), perplexity)"
      ]
    },
    {
      "cell_type": "code",
      "execution_count": null,
      "metadata": {
        "id": "C9GeAXjBX_Y0"
      },
      "outputs": [],
      "source": [
        "test_perplexity = evaluate(model, criterion, test_dataloader)\n",
        "test_perplexity"
      ]
    },
    {
      "cell_type": "markdown",
      "metadata": {
        "id": "PwsgiJnMYVtQ"
      },
      "source": [
        "Уже лучше, видим что почти приблизились к бейслайну ). Попробуем увеличить hiiden_dim и количество слоев."
      ]
    },
    {
      "cell_type": "code",
      "execution_count": null,
      "metadata": {
        "id": "OQk13fK1YImy"
      },
      "outputs": [],
      "source": [
        "model = LSTM(hidden_dim=512, vocab_size=len(vocab), num_layers=2).to(device)\n",
        "optimizer = torch.optim.AdamW(model.parameters(), lr=0.001, weight_decay=0.01)\n",
        "criterion = nn.CrossEntropyLoss(ignore_index=word2ind['<pad>'])\n"
      ]
    },
    {
      "cell_type": "code",
      "execution_count": null,
      "metadata": {
        "colab": {
          "base_uri": "https://localhost:8080/"
        },
        "id": "swzOyfJ1YRZg",
        "outputId": "557ecd75-8bba-4145-b52c-fe4ec52c141e"
      },
      "outputs": [
        {
          "name": "stdout",
          "output_type": "stream",
          "text": [
            "Start training...\n",
            "\n",
            "\n"
          ]
        },
        {
          "name": "stderr",
          "output_type": "stream",
          "text": [
            "start training with epoch : 0: 100%|██████████| 1243/1243 [03:42<00:00,  5.59it/s]\n",
            "start training with epoch : 1: 100%|██████████| 1243/1243 [03:41<00:00,  5.60it/s]\n",
            "start training with epoch : 2: 100%|██████████| 1243/1243 [03:41<00:00,  5.60it/s]\n",
            "start training with epoch : 3: 100%|██████████| 1243/1243 [03:42<00:00,  5.59it/s]\n",
            "start training with epoch : 4: 100%|██████████| 1243/1243 [03:42<00:00,  5.59it/s]\n",
            "start training with epoch : 5: 100%|██████████| 1243/1243 [03:42<00:00,  5.59it/s]\n",
            "start training with epoch : 6: 100%|██████████| 1243/1243 [03:41<00:00,  5.60it/s]\n",
            "start training with epoch : 7: 100%|██████████| 1243/1243 [03:42<00:00,  5.60it/s]\n",
            "start training with epoch : 8: 100%|██████████| 1243/1243 [03:42<00:00,  5.60it/s]\n",
            "start training with epoch : 9: 100%|██████████| 1243/1243 [03:42<00:00,  5.60it/s]\n"
          ]
        }
      ],
      "source": [
        "loss, perplexity = train_model(model, epochs=10, criterion=criterion, optimizer=optimizer)"
      ]
    },
    {
      "cell_type": "code",
      "execution_count": null,
      "metadata": {
        "id": "AHjn5H_vYyGN"
      },
      "outputs": [],
      "source": [
        "test_perplexity = evaluate(model, criterion, test_dataloader)"
      ]
    },
    {
      "cell_type": "code",
      "execution_count": null,
      "metadata": {
        "colab": {
          "base_uri": "https://localhost:8080/"
        },
        "id": "cFgFqB8uliMa",
        "outputId": "096ada72-2760-41a4-fddc-31ff06129f8e"
      },
      "outputs": [
        {
          "data": {
            "text/plain": [
              "55.49052197960813"
            ]
          },
          "execution_count": 73,
          "metadata": {},
          "output_type": "execute_result"
        }
      ],
      "source": [
        "test_perplexity"
      ]
    },
    {
      "cell_type": "markdown",
      "metadata": {
        "id": "vvjgme9yl_N9"
      },
      "source": [
        "Видим что перплексия стала ниже. Попробуем добавить эмбэддингам выразительности, применим линейный слой до подачи в lstm слой."
      ]
    },
    {
      "cell_type": "code",
      "execution_count": null,
      "metadata": {
        "id": "6KsJDjFll7qb"
      },
      "outputs": [],
      "source": [
        "class UpLSTM(nn.Module):\n",
        "    def __init__(self, hidden_dim, vocab_size=len(vocab), num_layers=1):\n",
        "        super().__init__()\n",
        "\n",
        "        self.pre_embeddings = nn.Linear(hidden_dim, hidden_dim)\n",
        "        self.embeddings = nn.Embedding(vocab_size, hidden_dim)\n",
        "        self.linear = nn.Linear(hidden_dim, hidden_dim)\n",
        "        self.foa = nn.Tanh()\n",
        "        self.lstm = nn.LSTM(hidden_dim, hidden_dim, batch_first=True, num_layers=num_layers)\n",
        "        self.dropout = nn.Dropout(p=0.1)\n",
        "        self.projection = nn.Linear(hidden_dim, vocab_size)\n",
        "\n",
        "    def forward(self, input_batch: torch.Tensor) -> torch.Tensor:\n",
        "        embeddings = self.embeddings(input_batch)\n",
        "        embeddings = self.pre_embeddings(embeddings)\n",
        "        embeddings = self.foa(embeddings)\n",
        "\n",
        "        output, _ = self.lstm(embeddings)\n",
        "        output = self.linear(self.foa(output))\n",
        "        output = self.dropout(self.foa(output))\n",
        "        output = self.projection(output)\n",
        "        return output"
      ]
    },
    {
      "cell_type": "code",
      "execution_count": null,
      "metadata": {
        "colab": {
          "base_uri": "https://localhost:8080/"
        },
        "id": "so48MVnGnfOF",
        "outputId": "26dfdaf6-b6dc-4aa4-dfca-d8245c8cbce9"
      },
      "outputs": [
        {
          "name": "stdout",
          "output_type": "stream",
          "text": [
            "Start training...\n",
            "\n",
            "\n"
          ]
        },
        {
          "name": "stderr",
          "output_type": "stream",
          "text": [
            "start training with epoch : 0: 100%|██████████| 1243/1243 [20:51<00:00,  1.01s/it]\n",
            "start training with epoch : 1: 100%|██████████| 1243/1243 [20:53<00:00,  1.01s/it]\n",
            "start training with epoch : 2: 100%|██████████| 1243/1243 [20:53<00:00,  1.01s/it]\n",
            "start training with epoch : 3: 100%|██████████| 1243/1243 [20:52<00:00,  1.01s/it]\n",
            "start training with epoch : 4: 100%|██████████| 1243/1243 [20:52<00:00,  1.01s/it]\n",
            "start training with epoch : 5: 100%|██████████| 1243/1243 [20:51<00:00,  1.01s/it]\n",
            "start training with epoch : 6: 100%|██████████| 1243/1243 [20:53<00:00,  1.01s/it]\n",
            "start training with epoch : 7: 100%|██████████| 1243/1243 [20:51<00:00,  1.01s/it]\n",
            "start training with epoch : 8: 100%|██████████| 1243/1243 [20:53<00:00,  1.01s/it]\n",
            "start training with epoch : 9: 100%|██████████| 1243/1243 [20:51<00:00,  1.01s/it]\n"
          ]
        }
      ],
      "source": [
        "model = UpLSTM(hidden_dim=512, vocab_size=len(vocab), num_layers=2).to(device)\n",
        "optimizer = torch.optim.AdamW(model.parameters(), lr=0.001, weight_decay=0.01)\n",
        "criterion = nn.CrossEntropyLoss(ignore_index=word2ind['<pad>'])\n",
        "\n",
        "loss, perplexity = train_model(model, epochs=10, criterion=criterion, optimizer=optimizer)\n"
      ]
    },
    {
      "cell_type": "code",
      "execution_count": null,
      "metadata": {
        "id": "fd09I6eyyu8D",
        "outputId": "254e18f8-eb6a-499e-b0a0-6856e66dc1ee"
      },
      "outputs": [
        {
          "data": {
            "text/plain": [
              "[<matplotlib.lines.Line2D at 0x1b2f0ad1520>]"
            ]
          },
          "execution_count": 21,
          "metadata": {},
          "output_type": "execute_result"
        },
        {
          "data": {
            "image/png": "[encoded data removed]",
            "text/plain": [
              "<Figure size 1000x800 with 1 Axes>"
            ]
          },
          "metadata": {},
          "output_type": "display_data"
        }
      ],
      "source": [
        "\n",
        "plt.figure(figsize=(10, 8))\n",
        "plt.title('perplexity')\n",
        "plt.plot(np.arange(10), perplexity)"
      ]
    },
    {
      "cell_type": "code",
      "execution_count": null,
      "metadata": {
        "id": "YbhShXIznoFM"
      },
      "outputs": [],
      "source": [
        "test_perplexity = evaluate(model, criterion, test_dataloader)"
      ]
    },
    {
      "cell_type": "code",
      "execution_count": null,
      "metadata": {
        "id": "33lb2x-cyu8E",
        "outputId": "d410b2d6-60d8-493a-c527-b0e4dcec57bd"
      },
      "outputs": [
        {
          "data": {
            "text/plain": [
              "70.3263045204192"
            ]
          },
          "execution_count": 23,
          "metadata": {},
          "output_type": "execute_result"
        }
      ],
      "source": [
        "test_perplexity"
      ]
    },
    {
      "cell_type": "markdown",
      "source": [
        "# Выводы"
      ],
      "metadata": {
        "id": "46MHHGgWzxeS"
      }
    },
    {
      "cell_type": "markdown",
      "source": [
        "В итоге лучшая перплексия на тестовой выборке 55.49 для словаря размером 40к это весьма неплохо, архитектура на которой она была получена:\n",
        " LSTM c hidden_dim=512, num_layers=2.\n",
        "\n",
        "Optimizer: AdamW, lr=0.001, weight_decay=0.01.\n",
        "\n",
        "Также неплохо себя показала GRU с 1 слоем и hidden_size=256.\n",
        "\n",
        "Размер батча увеличивать не стал, чтобы обучение не было уж слишком долгим.\n"
      ],
      "metadata": {
        "id": "nAXwM9OVzzm_"
      }
    },
    {
      "cell_type": "markdown",
      "source": [
        "# Генерация"
      ],
      "metadata": {
        "id": "xd4NwGDj04AS"
      }
    },
    {
      "cell_type": "code",
      "execution_count": null,
      "metadata": {
        "id": "tMELe4NIyu8E"
      },
      "outputs": [],
      "source": [
        "\n",
        "\n",
        "def generate_sequence(start_seq, model, max_seq_length, top_p=0.9, device='cpu'):\n",
        "    start_tokens = start_seq.split() if isinstance(start_seq, str) else start_seq\n",
        "    start_tokenize = [word2ind['<bos>']] + [word2ind.get(word, word2ind['<unk>']) for word in start_tokens]\n",
        "    input_ids = torch.LongTensor(start_tokenize).unsqueeze(0).to(device)\n",
        "\n",
        "    model.to(device)\n",
        "    model.eval()\n",
        "    with torch.no_grad():\n",
        "        for _ in range(max_seq_length):\n",
        "            logits = model(input_ids)\n",
        "            next_logits = logits[:, -1, :]\n",
        "\n",
        "            probs = torch.softmax(next_logits, dim=-1)\n",
        "\n",
        "            sorted_probs, sorted_indices = torch.sort(probs, descending=True)\n",
        "\n",
        "            cumulative_probs = torch.cumsum(sorted_probs, dim=-1)\n",
        "\n",
        "            mask = cumulative_probs <= top_p\n",
        "            mask[:, 0] = True\n",
        "\n",
        "            filtered_probs = sorted_probs * mask.float()\n",
        "            filtered_probs = filtered_probs / filtered_probs.sum(dim=-1, keepdim=True)\n",
        "\n",
        "            next_char = torch.multinomial(filtered_probs, num_samples=1)\n",
        "            next_char_idx = sorted_indices.gather(-1, next_char)\n",
        "\n",
        "            input_ids = torch.cat([input_ids, next_char_idx], dim=1)\n",
        "\n",
        "            if next_char_idx.item() == word2ind['<eos>']:\n",
        "                break\n",
        "\n",
        "    return ' '.join(ind2word[idx.item()] for idx in input_ids[0])"
      ]
    },
    {
      "cell_type": "code",
      "execution_count": null,
      "metadata": {
        "id": "npfgpIsryu8E",
        "outputId": "9348740c-420d-44f0-e45d-94aff6ec1e4c"
      },
      "outputs": [
        {
          "data": {
            "text/plain": [
              "'<bos> We believe that how random police guy probably would be influenced by Cher and <unk> <unk> the actors they were <unk> <eos>'"
            ]
          },
          "execution_count": 31,
          "metadata": {},
          "output_type": "execute_result"
        }
      ],
      "source": [
        "generate_sequence('We believe', model=model, max_seq_length=150)"
      ]
    }
  ],
  "metadata": {
    "accelerator": "GPU",
    "colab": {
      "provenance": [],
      "collapsed_sections": [
        "DiO5aFSny2uF",
        "2TxGySsVzIsL",
        "bLV63Vsk7loy",
        "hXmeyhBQmuq4",
        "kcG1RUqjzhpq",
        "46MHHGgWzxeS",
        "xd4NwGDj04AS"
      ]
    },
    "gpuClass": "standard",
    "kernelspec": {
      "display_name": "nlp",
      "language": "python",
      "name": "python3"
    },
    "language_info": {
      "codemirror_mode": {
        "name": "ipython",
        "version": 3
      },
      "file_extension": ".py",
      "mimetype": "text/x-python",
      "name": "python",
      "nbconvert_exporter": "python",
      "pygments_lexer": "ipython3",
      "version": "3.12.8"
    }
  },
  "nbformat": 4,
  "nbformat_minor": 0
}